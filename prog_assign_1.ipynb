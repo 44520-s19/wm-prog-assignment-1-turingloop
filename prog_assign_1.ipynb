{
 "cells": [
  {
   "cell_type": "markdown",
   "metadata": {},
   "source": [
    "# Web Mining Programming Assignment 1\n",
    "\n",
    "## Python Basics\n",
    "\n",
    "### Student Name: Goutham Neravetla\n",
    "\n",
    "In this assignment you will be writing several small snippets of Python to solve individual problems.  Unless otherwise specified, you should put your work in the integrated Code cells in this document.\n",
    "\n",
    "1. Type your name on the line that says \"Student Name\"\n",
    "\n",
    "2. Write Python code that divides two numbers, stores the result in a variable and prints the result with an appropriate label."
   ]
  },
  {
   "cell_type": "code",
   "execution_count": 2,
   "metadata": {},
   "outputs": [
    {
     "name": "stdout",
     "output_type": "stream",
     "text": [
      "9 divided by 5 is 1.8\n"
     ]
    }
   ],
   "source": [
    "def divide(a,b):\n",
    "    return a/b\n",
    "result = divide(9,5)\n",
    "print(\"9 divided by 5 is\", result)"
   ]
  },
  {
   "cell_type": "markdown",
   "metadata": {},
   "source": [
    "3. Using loops (and potentially conditionals), write Python code that prints the factorial of each integer from 1 through 10 (which you can store in a variable if you want).  The factorial of an integer is the product of all of the integers of 1 through the number.  Print the result."
   ]
  },
  {
   "cell_type": "code",
   "execution_count": 6,
   "metadata": {},
   "outputs": [
    {
     "name": "stdout",
     "output_type": "stream",
     "text": [
      "1\n",
      "2\n",
      "6\n",
      "24\n",
      "120\n",
      "720\n",
      "5040\n",
      "40320\n",
      "362880\n",
      "3628800\n"
     ]
    }
   ],
   "source": [
    "for i in range(2,12):\n",
    "    k = 1\n",
    "    for j in range(1,i):\n",
    "        k = k*j\n",
    "    print(k)"
   ]
  },
  {
   "cell_type": "markdown",
   "metadata": {},
   "source": [
    "4. Create a new Jupyter Notebook (the name of the notebook should be your S number).  Add a Markdown cell that contains your name.  Add a Code cell and write Python that uses loops to draw the following pattern:\n",
    "\n",
    "```python\n",
    "#      #\n",
    "##    ##\n",
    "###  ###\n",
    "########\n",
    "```\n",
    "\n",
    "Submit both this notebook and your new notebook to your repository."
   ]
  },
  {
   "cell_type": "code",
   "execution_count": 7,
   "metadata": {},
   "outputs": [
    {
     "name": "stdout",
     "output_type": "stream",
     "text": [
      "#      #\n",
      "\n",
      "##    ##\n",
      "\n",
      "###  ###\n",
      "\n",
      "########\n",
      "\n"
     ]
    }
   ],
   "source": [
    "spaces = 6\n",
    "for i in range(1,5):\n",
    "    print(i*\"#\" + spaces*\" \" + i*\"#\"+\"\\n\")\n",
    "    spaces = spaces - 2"
   ]
  },
  {
   "cell_type": "code",
   "execution_count": null,
   "metadata": {},
   "outputs": [],
   "source": []
  }
 ],
 "metadata": {
  "kernelspec": {
   "display_name": "Python 3",
   "language": "python",
   "name": "python3"
  },
  "language_info": {
   "codemirror_mode": {
    "name": "ipython",
    "version": 3
   },
   "file_extension": ".py",
   "mimetype": "text/x-python",
   "name": "python",
   "nbconvert_exporter": "python",
   "pygments_lexer": "ipython3",
   "version": "3.7.3"
  }
 },
 "nbformat": 4,
 "nbformat_minor": 2
}
